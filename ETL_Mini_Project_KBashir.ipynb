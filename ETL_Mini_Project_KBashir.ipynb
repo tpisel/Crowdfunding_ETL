{
 "cells": [
  {
   "cell_type": "code",
   "execution_count": 19,
   "id": "b8ebd1f9",
   "metadata": {},
   "outputs": [],
   "source": [
    "import pandas as pd\n",
    "\n"
   ]
  },
  {
   "cell_type": "code",
   "execution_count": 22,
   "id": "6db6740d",
   "metadata": {},
   "outputs": [],
   "source": [
    "\n",
    "\n",
    "# Replace 'file_path.xls' with the path to your Excel file\n",
    "file_path = 'Resources/crowdfunding.xlsx'\n",
    "# Read the Excel file into a DataFrame\n",
    "df = pd.read_excel(file_path)\n",
    "\n",
    "# Split the 'category & sub-category' column\n",
    "df[['category', 'sub-category']] = df['category & sub-category'].str.split('/', expand=True)\n",
    "\n",
    "df1=df\n",
    "df3=df\n",
    "# Drop the original 'category & sub-category' column\n",
    "df.drop(columns=['category & sub-category'], inplace=True)\n",
    "\n",
    "unique_categories = df['category'].unique()\n",
    "\n",
    "# Create a mapping of category titles to category IDs\n",
    "category_id_mapping = {category: f'cat{i+1}' for i, category in enumerate(unique_categories)}\n",
    "#for i,category in enumerate(unique)\n",
    "\n",
    "df = pd.DataFrame(list(category_id_mapping.items()), columns=['category' ,'category_id'])\n",
    "\n",
    "# Reorder columns\n",
    "df = df[['category_id', 'category']]\n",
    "\n",
    "# Display the updated DataFrame\n",
    "df.to_csv('Resources/category.csv', index=False)"
   ]
  },
  {
   "cell_type": "code",
   "execution_count": 24,
   "id": "fabbdb6d",
   "metadata": {},
   "outputs": [],
   "source": [
    "unique_subcategories = df1['sub-category'].unique()\n",
    "\n",
    "# Create a mapping of category titles to category IDs\n",
    "subcategory_id_mapping = {subcategory: f'subcat{i+1}' for i, subcategory in enumerate(unique_subcategories)}\n",
    ",\n",
    "df1 = pd.DataFrame(list(subcategory_id_mapping.items()), columns=['subcategory' ,'subcategory_id'])\n",
    "\n",
    "# Reorder columns\n",
    "df1 = df1[['subcategory_id','subcategory']]\n",
    "\n",
    "# Display the updated DataFrame\n",
    "df1.to_csv('Resources/subcategory.csv', index=False)"
   ]
  },
  {
   "cell_type": "code",
   "execution_count": 17,
   "id": "3e9ac74d",
   "metadata": {},
   "outputs": [],
   "source": [
    "df3['category_id'] = df3['category'].map(category_id_mapping)\n",
    "df3['subcategory_id'] = df3['subcategory'].map(subcategory_id_mapping)\n",
    "\n",
    "# Drop the original 'category' and 'subcategory' columns from df3\n",
    "df3.drop(columns=['category', 'subcategory','staff_pick','spotlight'], inplace=True)\n",
    "\n",
    "df3.rename(columns={'blurb': 'description', 'launched_at': 'launch_date', 'deadline': 'end_date'}, inplace=True)\n",
    "\n",
    "# Convert 'goal' and 'pledged' columns to float\n",
    "df3['goal'] = df3['goal'].astype(float)\n",
    "df3['pledged'] = df3['pledged'].astype(float)\n",
    "\n",
    "# Convert 'launch_date' and 'end_date' to datetime format\n",
    "df3['launch_date'] = pd.to_datetime(df3['launch_date'], unit='s')\n",
    "df3['end_date'] = pd.to_datetime(df3['end_date'], unit='s')\n",
    "\n",
    "# df3.to_csv('Resources/crowdfunding_transformed.csv', index=False)\n"
   ]
  },
  {
   "cell_type": "code",
   "execution_count": 18,
   "id": "15cb872c",
   "metadata": {},
   "outputs": [
    {
     "name": "stdout",
     "output_type": "stream",
     "text": [
      "cf_id                      int64\n",
      "contact_id                 int64\n",
      "company_name              object\n",
      "description               object\n",
      "goal                     float64\n",
      "pledged                  float64\n",
      "outcome                   object\n",
      "backers_count              int64\n",
      "country                   object\n",
      "currency                  object\n",
      "launch_date       datetime64[ns]\n",
      "end_date          datetime64[ns]\n",
      "category_id               object\n",
      "subcategory_id            object\n",
      "dtype: object\n"
     ]
    }
   ],
   "source": [
    "print(df3.dtypes)\n"
   ]
  },
  {
   "cell_type": "code",
   "execution_count": null,
   "id": "6b1e1c4c",
   "metadata": {},
   "outputs": [],
   "source": []
  }
 ],
 "metadata": {
  "kernelspec": {
   "display_name": "Python 3 (ipykernel)",
   "language": "python",
   "name": "python3"
  },
  "language_info": {
   "codemirror_mode": {
    "name": "ipython",
    "version": 3
   },
   "file_extension": ".py",
   "mimetype": "text/x-python",
   "name": "python",
   "nbconvert_exporter": "python",
   "pygments_lexer": "ipython3",
   "version": "3.10.11"
  }
 },
 "nbformat": 4,
 "nbformat_minor": 5
}
